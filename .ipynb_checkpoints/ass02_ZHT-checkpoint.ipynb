{
 "cells": [
  {
   "cell_type": "markdown",
   "metadata": {},
   "source": [
    "# load and process data"
   ]
  },
  {
   "cell_type": "code",
   "execution_count": 51,
   "metadata": {},
   "outputs": [],
   "source": [
    "## download data\n",
    "\n",
    "# import requests\n",
    "\n",
    "# url = \"http://deepyeti.ucsd.edu/jianmo/amazon/categoryFiles/Video_Games.json.gz\"\n",
    "# filename = url.split(\"/\")[-1]\n",
    "# with open(filename, \"wb\") as f:\n",
    "#     r = requests.get(url)\n",
    "#     f.write(r.content)"
   ]
  },
  {
   "cell_type": "code",
   "execution_count": 1,
   "metadata": {},
   "outputs": [],
   "source": [
    "import gzip\n",
    "import json\n",
    "def parse(path):\n",
    "  g = gzip.open(path, 'r')\n",
    "  for l in g:\n",
    "    yield json.loads(l)"
   ]
  },
  {
   "cell_type": "code",
   "execution_count": 2,
   "metadata": {},
   "outputs": [],
   "source": [
    "data = parse(\"./Video_Games.json.gz\")"
   ]
  },
  {
   "cell_type": "code",
   "execution_count": 3,
   "metadata": {},
   "outputs": [],
   "source": [
    "import random\n",
    "data = list(data)\n",
    "random.seed(0)\n",
    "random.shuffle(data)"
   ]
  },
  {
   "cell_type": "code",
   "execution_count": 4,
   "metadata": {},
   "outputs": [],
   "source": [
    "traindata = data[:50000]\n",
    "validdata = data[50000:75000]\n",
    "testdata = data[75000:100000]"
   ]
  },
  {
   "cell_type": "code",
   "execution_count": 5,
   "metadata": {},
   "outputs": [
    {
     "data": {
      "text/plain": [
       "{'overall': 1.0,\n",
       " 'verified': True,\n",
       " 'reviewTime': '12 14, 2016',\n",
       " 'reviewerID': 'A3VK4801K2E8MG',\n",
       " 'asin': 'B000WMEEBC',\n",
       " 'style': {'Platform:': ' PlayStation 3'},\n",
       " 'reviewerName': 'King Zulu',\n",
       " 'reviewText': 'Terrible, cannot compete with the PC version...',\n",
       " 'summary': 'One Star',\n",
       " 'unixReviewTime': 1481673600}"
      ]
     },
     "execution_count": 5,
     "metadata": {},
     "output_type": "execute_result"
    }
   ],
   "source": [
    "traindata[-1]"
   ]
  },
  {
   "cell_type": "code",
   "execution_count": 6,
   "metadata": {},
   "outputs": [
    {
     "data": {
      "text/plain": [
       "dict_keys(['overall', 'vote', 'verified', 'reviewTime', 'reviewerID', 'asin', 'style', 'reviewerName', 'reviewText', 'summary', 'unixReviewTime'])"
      ]
     },
     "execution_count": 6,
     "metadata": {},
     "output_type": "execute_result"
    }
   ],
   "source": [
    "traindata[1].keys()"
   ]
  },
  {
   "cell_type": "code",
   "execution_count": 7,
   "metadata": {},
   "outputs": [],
   "source": [
    "from collections import defaultdict\n",
    "userset = set()\n",
    "itemset = set()\n",
    "averageRating = 0\n",
    "ratingCount = defaultdict(int)\n",
    "acc = 0\n",
    "counter = 0\n",
    "\n",
    "\n",
    "for d in traindata:\n",
    "    userset.add(d['reviewerID'])\n",
    "    itemset.add(d['asin'])\n",
    "    acc += float(d['overall'])\n",
    "    counter+=1\n",
    "    ratingCount[d['overall']] += 1\n",
    "averageRating = acc/counter"
   ]
  },
  {
   "cell_type": "markdown",
   "metadata": {},
   "source": [
    "# basic analysis"
   ]
  },
  {
   "cell_type": "code",
   "execution_count": 8,
   "metadata": {},
   "outputs": [
    {
     "name": "stdout",
     "output_type": "stream",
     "text": [
      "Number of user: 48218 \n",
      "Number of items: 16602 \n",
      "averageRating = 4.034360\n"
     ]
    }
   ],
   "source": [
    "print(\"Number of user: %d \\nNumber of items: %d \\naverageRating = %f\"%(len(userset),len(itemset),averageRating)) \n"
   ]
  },
  {
   "cell_type": "code",
   "execution_count": 9,
   "metadata": {},
   "outputs": [
    {
     "data": {
      "image/png": "[encoded data removed]",
      "text/plain": [
       "<Figure size 432x288 with 1 Axes>"
      ]
     },
     "metadata": {
      "needs_background": "light"
     },
     "output_type": "display_data"
    }
   ],
   "source": [
    "import matplotlib.pyplot as plt\n",
    "x = range(6)\n",
    "y = [ ratingCount[xx] for xx in x]\n",
    "plt.bar(x,y)\n",
    "plt.ylabel('number')\n",
    "plt.xlabel('overall rating')\n",
    "plt.show()"
   ]
  },
  {
   "cell_type": "markdown",
   "metadata": {},
   "source": [
    "## avr rating is high"
   ]
  },
  {
   "cell_type": "code",
   "execution_count": 10,
   "metadata": {},
   "outputs": [
    {
     "name": "stdout",
     "output_type": "stream",
     "text": [
      "normal data:49961 \n",
      "data without reviewtext:30\n",
      "data without summary:9\n"
     ]
    }
   ],
   "source": [
    "lenAndRating = []\n",
    "noReviewCount = 0\n",
    "noSumCount = 0\n",
    "commonCount = 0\n",
    "for index,d in enumerate(traindata) :\n",
    "\n",
    "    if('reviewText' not in d.keys()):\n",
    "        noReviewCount+=1\n",
    "        continue\n",
    "    if('summary' not in d.keys()):\n",
    "        noSumCount+=1\n",
    "        continue\n",
    "    lenAndRating.append(        (     len(d['reviewText'].replace('\\n','').replace('\\'','')),  len(d['summary']),   d['overall']      )                )\n",
    "    commonCount+=1\n",
    "\n",
    "\n",
    "print(\"normal data:%d \\ndata without reviewtext:%d\\ndata without summary:%d\"%(commonCount,noReviewCount,noSumCount))\n",
    "\n",
    "    "
   ]
  },
  {
   "cell_type": "markdown",
   "metadata": {},
   "source": [
    "## Tiny part data are not complete, just use average to predict rating"
   ]
  },
  {
   "cell_type": "code",
   "execution_count": 11,
   "metadata": {},
   "outputs": [],
   "source": [
    "lenAndRating.sort(key=lambda s:-s[0])"
   ]
  },
  {
   "cell_type": "code",
   "execution_count": 12,
   "metadata": {},
   "outputs": [
    {
     "data": {
      "image/png": "[encoded data removed]",
      "text/plain": [
       "<Figure size 432x288 with 1 Axes>"
      ]
     },
     "metadata": {
      "needs_background": "light"
     },
     "output_type": "display_data"
    }
   ],
   "source": [
    "x = [i[0] for i in lenAndRating]\n",
    "y = [i[2] for i in lenAndRating]\n",
    "\n",
    "plt.scatter(x,y)\n",
    "plt.show()"
   ]
  },
  {
   "cell_type": "code",
   "execution_count": 13,
   "metadata": {},
   "outputs": [
    {
     "data": {
      "image/png": "[encoded data removed]",
      "text/plain": [
       "<Figure size 432x288 with 1 Axes>"
      ]
     },
     "metadata": {
      "needs_background": "light"
     },
     "output_type": "display_data"
    }
   ],
   "source": [
    "x = [i[1] for i in lenAndRating]\n",
    "y = [i[2] for i in lenAndRating]\n",
    "\n",
    "plt.scatter(x,y)\n",
    "plt.show()"
   ]
  },
  {
   "cell_type": "markdown",
   "metadata": {},
   "source": [
    "## length of the text and summary only give small info"
   ]
  },
  {
   "cell_type": "code",
   "execution_count": 32,
   "metadata": {},
   "outputs": [],
   "source": [
    "from transformers import pipeline\n"
   ]
  },
  {
   "cell_type": "code",
   "execution_count": 35,
   "metadata": {},
   "outputs": [
    {
     "name": "stderr",
     "output_type": "stream",
     "text": [
      "No model was supplied, defaulted to distilbert-base-uncased-finetuned-sst-2-english (https://huggingface.co/distilbert-base-uncased-finetuned-sst-2-english)\n"
     ]
    }
   ],
   "source": [
    "senti = pipeline('sentiment-analysis',device=-1)"
   ]
  },
  {
   "cell_type": "code",
   "execution_count": 45,
   "metadata": {},
   "outputs": [],
   "source": [
    "sentiAndRating = []\n",
    "for index,d in enumerate(traindata[:1000]) :\n",
    "    # print('process : %s'%(str(index/len(traindata)*100)+'%'),end='\\r')\n",
    "    if('reviewText' not in d.keys()):\n",
    "        continue\n",
    "    if('summary' not in d.keys()):\n",
    "        continue\n",
    "    sentiAndRating.append(        (     senti(d['reviewText'].replace('\\n','').replace('\\'','')[:500]),   d['overall']      )                )\n",
    "    # commonCount+=1\n"
   ]
  },
  {
   "cell_type": "code",
   "execution_count": 52,
   "metadata": {},
   "outputs": [
    {
     "data": {
      "text/plain": [
       "[([{'label': 'NEGATIVE', 'score': 0.9997203946113586}], 2.0),\n",
       " ([{'label': 'POSITIVE', 'score': 0.9998500347137451}], 5.0),\n",
       " ([{'label': 'POSITIVE', 'score': 0.9996330738067627}], 5.0),\n",
       " ([{'label': 'POSITIVE', 'score': 0.9990069270133972}], 5.0),\n",
       " ([{'label': 'POSITIVE', 'score': 0.9998682737350464}], 5.0),\n",
       " ([{'label': 'POSITIVE', 'score': 0.9990069270133972}], 5.0),\n",
       " ([{'label': 'POSITIVE', 'score': 0.997866690158844}], 4.0),\n",
       " ([{'label': 'POSITIVE', 'score': 0.9543790221214294}], 5.0),\n",
       " ([{'label': 'POSITIVE', 'score': 0.9998681545257568}], 5.0),\n",
       " ([{'label': 'POSITIVE', 'score': 0.9998236298561096}], 4.0)]"
      ]
     },
     "execution_count": 52,
     "metadata": {},
     "output_type": "execute_result"
    }
   ],
   "source": [
    "sentiAndRating[:10]"
   ]
  },
  {
   "cell_type": "markdown",
   "metadata": {},
   "source": [
    "## seems highly related to the sentiment of the review text"
   ]
  },
  {
   "cell_type": "code",
   "execution_count": 53,
   "metadata": {},
   "outputs": [
    {
     "name": "stderr",
     "output_type": "stream",
     "text": [
      "C:\\Users\\kevin\\miniconda3\\envs\\python38\\lib\\site-packages\\transformers\\pipelines\\base.py:899: UserWarning: You seem to be using the pipelines sequentially on GPU. In order to maximize efficiency please use a dataset\n",
      "  warnings.warn(\n"
     ]
    }
   ],
   "source": [
    "sentiAndRating = []\n",
    "for index,d in enumerate(traindata[:1000]) :\n",
    "    # print('process : %s'%(str(index/len(traindata)*100)+'%'),end='\\r')\n",
    "    if('reviewText' not in d.keys()):\n",
    "        continue\n",
    "    if('summary' not in d.keys()):\n",
    "        continue\n",
    "    sentiAndRating.append(        (     senti(d['summary'].replace('\\n','').replace('\\'','')[:500]),   d['overall']      )                )\n",
    "    # commonCount+=1\n"
   ]
  },
  {
   "cell_type": "code",
   "execution_count": 54,
   "metadata": {},
   "outputs": [
    {
     "data": {
      "text/plain": [
       "[([{'label': 'NEGATIVE', 'score': 0.9997203946113586}], 2.0),\n",
       " ([{'label': 'POSITIVE', 'score': 0.9998500347137451}], 5.0),\n",
       " ([{'label': 'POSITIVE', 'score': 0.9996330738067627}], 5.0),\n",
       " ([{'label': 'POSITIVE', 'score': 0.9990069270133972}], 5.0),\n",
       " ([{'label': 'POSITIVE', 'score': 0.9998682737350464}], 5.0),\n",
       " ([{'label': 'POSITIVE', 'score': 0.9990069270133972}], 5.0),\n",
       " ([{'label': 'POSITIVE', 'score': 0.997866690158844}], 4.0),\n",
       " ([{'label': 'POSITIVE', 'score': 0.9543790221214294}], 5.0),\n",
       " ([{'label': 'POSITIVE', 'score': 0.9998681545257568}], 5.0),\n",
       " ([{'label': 'POSITIVE', 'score': 0.9998236298561096}], 4.0)]"
      ]
     },
     "execution_count": 54,
     "metadata": {},
     "output_type": "execute_result"
    }
   ],
   "source": [
    "sentiAndRating[:10]"
   ]
  },
  {
   "cell_type": "markdown",
   "metadata": {},
   "source": [
    "## summary's sentiment works worse than origin text's"
   ]
  },
  {
   "cell_type": "markdown",
   "metadata": {},
   "source": [
    "## to do: normalize the score, use it  as a feature, to train a regression model"
   ]
  },
  {
   "cell_type": "code",
   "execution_count": null,
   "metadata": {},
   "outputs": [],
   "source": []
  }
 ],
 "metadata": {
  "interpreter": {
   "hash": "65768f95ed3f1ad80799466926a66640b39a99ef5d94bbece814e59aa067606e"
  },
  "kernelspec": {
   "display_name": "Python 3 (ipykernel)",
   "language": "python",
   "name": "python3"
  },
  "language_info": {
   "codemirror_mode": {
    "name": "ipython",
    "version": 3
   },
   "file_extension": ".py",
   "mimetype": "text/x-python",
   "name": "python",
   "nbconvert_exporter": "python",
   "pygments_lexer": "ipython3",
   "version": "3.9.5"
  }
 },
 "nbformat": 4,
 "nbformat_minor": 2
}
